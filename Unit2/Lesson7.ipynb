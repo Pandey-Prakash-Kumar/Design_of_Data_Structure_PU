{
  "nbformat": 4,
  "nbformat_minor": 0,
  "metadata": {
    "colab": {
      "provenance": [],
      "name": "lesson7.ipynb",
      "include_colab_link": true
    },
    "kernelspec": {
      "name": "python3",
      "display_name": "Python 3"
    },
    "language_info": {
      "name": "python"
    }
  },
  "cells": [
    {
      "cell_type": "markdown",
      "metadata": {
        "id": "view-in-github",
        "colab_type": "text"
      },
      "source": [
        "<a href=\"https://colab.research.google.com/github/Pandey-Prakash-Kumar/Design_of_Data_Structures/blob/main/Unit2/Lesson7.ipynb\" target=\"_parent\"><img src=\"https://colab.research.google.com/assets/colab-badge.svg\" alt=\"Open In Colab\"/></a>"
      ]
    },
    {
      "cell_type": "markdown",
      "source": [
        "# 📘 Lesson 7: Stack Using Dynamic Arrays\n",
        "\n",
        "## 🎯 Objectives:\n",
        "- Implement stack using **dynamically allocated memory**\n",
        "- Understand how to **resize stack** at runtime\n",
        "- Compare with static array-based stack\n",
        "- Practice in both Python and C\n",
        "\n",
        "---\n",
        "\n",
        "## 🔁 Stack Recap:\n",
        "- **LIFO** (Last In, First Out)\n",
        "- Operations:\n",
        "  - `push()` – Add to top\n",
        "  - `pop()` – Remove from top\n",
        "  - `peek()` – View top\n",
        "  - `resize()` – Expand stack memory dynamically\n",
        "\n",
        "---\n",
        "\n",
        "## 💡 Why Dynamic Arrays?\n",
        "\n",
        "- Static stacks (fixed arrays) have limited size\n",
        "- Dynamic stacks allow flexible **runtime growth**\n",
        "- Achieved in C++ using 'new' & 'delete'\n",
        "\n",
        "Let’s implement it in C++.\n"
      ],
      "metadata": {
        "id": "horGTIEE38Xs"
      }
    },
    {
      "cell_type": "markdown",
      "source": [
        "---\n",
        "\n",
        "## 💻 C++ Implementation of Stack Using Dynamic Arrays\n",
        "\n",
        "We’ll allocate memory using `malloc()` and resize using `realloc()` when the stack is full.\n"
      ],
      "metadata": {
        "id": "ZrqofFkf4B7V"
      }
    },
    {
      "cell_type": "code",
      "source": [
        "#include <iostream>\n",
        "using namespace std;\n",
        "\n",
        "class Stack {\n",
        "private:\n",
        "    int* arr;        // Pointer to the stack array\n",
        "    int capacity;    // Current capacity of the array\n",
        "    int top;         // Index of the top element\n",
        "\n",
        "    // Function to resize the array when it's full\n",
        "    void resize() {\n",
        "        int newCapacity = capacity * 2;\n",
        "        int* newArr = new int[newCapacity];\n",
        "\n",
        "        // Copy old elements to new array\n",
        "        for (int i = 0; i <= top; i++) {\n",
        "            newArr[i] = arr[i];\n",
        "        }\n",
        "\n",
        "        // Delete old array and update pointer\n",
        "        delete[] arr;\n",
        "        arr = newArr;\n",
        "        capacity = newCapacity;\n",
        "\n",
        "        cout << \"Stack resized to capacity: \" << capacity << endl;\n",
        "    }\n",
        "\n",
        "public:\n",
        "    // Constructor\n",
        "    Stack(int size = 2) {\n",
        "        capacity = size;\n",
        "        arr = new int[capacity];\n",
        "        top = -1;\n",
        "    }\n",
        "\n",
        "    // Destructor to free memory\n",
        "    ~Stack() {\n",
        "        delete[] arr;\n",
        "    }\n",
        "\n",
        "    // Push operation\n",
        "    void push(int value) {\n",
        "        if (top == capacity - 1) {\n",
        "            resize();\n",
        "        }\n",
        "        arr[++top] = value;\n",
        "        cout << value << \" pushed to stack\\n\";\n",
        "    }\n",
        "\n",
        "    // Pop operation\n",
        "    void pop() {\n",
        "        if (isEmpty()) {\n",
        "            cout << \"Stack Underflow\\n\";\n",
        "        } else {\n",
        "            cout << arr[top--] << \" popped from stack\\n\";\n",
        "        }\n",
        "    }\n",
        "\n",
        "    // Peek operation\n",
        "    void peek() {\n",
        "        if (isEmpty()) {\n",
        "            cout << \"Stack is empty\\n\";\n",
        "        } else {\n",
        "            cout << \"Top element: \" << arr[top] << endl;\n",
        "        }\n",
        "    }\n",
        "\n",
        "    // Check if stack is empty\n",
        "    bool isEmpty() {\n",
        "        return top == -1;\n",
        "    }\n",
        "\n",
        "    // Display all elements\n",
        "    void display() {\n",
        "        if (isEmpty()) {\n",
        "            cout << \"Stack is empty\\n\";\n",
        "        } else {\n",
        "            cout << \"Stack elements: \";\n",
        "            for (int i = top; i >= 0; i--) {\n",
        "                cout << arr[i] << \" \";\n",
        "            }\n",
        "            cout << endl;\n",
        "        }\n",
        "    }\n",
        "};\n",
        "\n",
        "// Main function\n",
        "int main() {\n",
        "    Stack s;\n",
        "\n",
        "    s.push(5);\n",
        "    s.push(10);\n",
        "    s.push(15);  // Will trigger resizing\n",
        "    s.display();\n",
        "\n",
        "    s.peek();\n",
        "    s.pop();\n",
        "    s.display();\n",
        "\n",
        "    return 0;\n",
        "}\n"
      ],
      "metadata": {
        "id": "nRejGnqK4DTb"
      },
      "execution_count": null,
      "outputs": []
    },
    {
      "cell_type": "markdown",
      "source": [
        "---\n",
        "\n",
        "## ✅ Summary\n",
        "\n",
        "- Stack using **dynamic arrays** allows runtime memory management\n",
        "- C++ uses `new` and `delete` to expand array\n",
        "- Python handles this internally with `list.append()`\n",
        "\n",
        "---\n",
        "\n",
        "## 📘 Viva Questions:\n",
        "\n",
        "1. Why use dynamic arrays for stacks?\n",
        "2. What is `realloc()`? How does it differ from `malloc()`?\n",
        "3. How is resizing handled in dynamic stack?\n",
        "4. What is the time complexity of push when resizing is involved?\n",
        "\n",
        "⏭️ Next: **Lesson 8: Applications: Polish Notation, Infix to Postfix Conversion, Evaluation of Postfix Expression**\n"
      ],
      "metadata": {
        "id": "NbFIsajY4Hto"
      }
    }
  ]
}
