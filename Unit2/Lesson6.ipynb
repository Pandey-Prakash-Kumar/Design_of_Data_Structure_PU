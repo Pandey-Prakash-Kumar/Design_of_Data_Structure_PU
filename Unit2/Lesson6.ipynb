{
  "nbformat": 4,
  "nbformat_minor": 0,
  "metadata": {
    "colab": {
      "provenance": [],
      "name": "lesson6.ipynb",
      "include_colab_link": true
    },
    "kernelspec": {
      "name": "python3",
      "display_name": "Python 3"
    },
    "language_info": {
      "name": "python"
    }
  },
  "cells": [
    {
      "cell_type": "markdown",
      "metadata": {
        "id": "view-in-github",
        "colab_type": "text"
      },
      "source": [
        "<a href=\"https://colab.research.google.com/github/Pandey-Prakash-Kumar/Design_of_Data_Structures/blob/main/Unit2/Lesson6.ipynb\" target=\"_parent\"><img src=\"https://colab.research.google.com/assets/colab-badge.svg\" alt=\"Open In Colab\"/></a>"
      ]
    },
    {
      "cell_type": "markdown",
      "source": [
        "# 📘 Lesson 6: Stack – Definition & Operations (Array Representation)\n",
        "\n",
        "## 🎯 Objectives:\n",
        "- Understand the concept of **Stack** (LIFO – Last In, First Out)\n",
        "- Implement stack operations using **arrays**\n",
        "- Handle stack overflow and underflow\n",
        "- Stack Implentation\n",
        "\n",
        "---\n",
        "\n",
        "## 🔁 What is a Stack?\n",
        "\n",
        "A **Stack** is a linear data structure where:\n",
        "- **Last** element inserted is the **first** to be removed\n",
        "- Works like a pile of plates\n",
        "\n",
        "### Main Operations:\n",
        "- `push(item)` – Add item to top\n",
        "- `pop()` – Remove top item\n",
        "- `peek()` – View top item without removing\n",
        "- `isEmpty()` – Check if stack is empty\n",
        "\n",
        "---\n",
        "\n",
        "## 💡 Real-Life Examples:\n",
        "- Undo feature in editors\n",
        "- Browser back button\n",
        "- Function call stack in recursion\n"
      ],
      "metadata": {
        "id": "IxVOv4Hc3RKm"
      }
    },
    {
      "cell_type": "markdown",
      "source": [
        "---\n",
        "\n",
        "## 🧠 Stack in Memory (Array Representation in C++)\n",
        "\n",
        "In C++, stacks are implemented using a fixed-size array and a `top` index.\n",
        "\n",
        "### Stack Overflow:\n",
        "Occurs when trying to `push()` into a full stack\n",
        "\n",
        "### Stack Underflow:\n",
        "Occurs when trying to `pop()` from an empty stack\n"
      ],
      "metadata": {
        "id": "oE7ri_gV3Z4D"
      }
    },
    {
      "cell_type": "code",
      "source": [
        "#include <iostream>\n",
        "using namespace std;\n",
        "\n",
        "#define SIZE 100  // Maximum size of the stack\n",
        "\n",
        "class Stack {\n",
        "private:\n",
        "    int arr[SIZE];        // Array to hold stack elements\n",
        "    int top = -1;        // Index of the top element\n",
        "\n",
        "public:\n",
        "\n",
        "    // Push operation to insert element\n",
        "    void push(int value) {\n",
        "        if (top >= SIZE - 1) {\n",
        "            cout << \"Stack Overflow\\n\";\n",
        "        } else {\n",
        "            top++;\n",
        "            arr[top] = value;\n",
        "            cout << value << \" pushed to stack\\n\";\n",
        "        }\n",
        "    }\n",
        "\n",
        "    // Pop operation to remove top element\n",
        "    void pop() {\n",
        "        if (top < 0) {\n",
        "            cout << \"Stack Underflow\\n\";\n",
        "        } else {\n",
        "            cout << arr[top] << \" popped from stack\\n\";\n",
        "            top--;\n",
        "        }\n",
        "    }\n",
        "\n",
        "    // Peek operation to view the top element\n",
        "    void peek() {\n",
        "        if (top < 0) {\n",
        "            cout << \"Stack is empty\\n\";\n",
        "        } else {\n",
        "            cout << \"Top element is: \" << arr[top] << \"\\n\";\n",
        "        }\n",
        "    }\n",
        "\n",
        "    // Check if stack is empty\n",
        "    bool isEmpty() {\n",
        "        return top == -1;\n",
        "    }\n",
        "\n",
        "    // Display all elements\n",
        "    void display() {\n",
        "        if (top < 0) {\n",
        "            cout << \"Stack is empty\\n\";\n",
        "        } else {\n",
        "            cout << \"Stack elements are: \";\n",
        "            for (int i = top; i >= 0; i--) {\n",
        "                cout << arr[i] << \" \";\n",
        "            }\n",
        "            cout << \"\\n\";\n",
        "        }\n",
        "    }\n",
        "};\n",
        "\n",
        "// Main function to test the stack\n",
        "int main() {\n",
        "    Stack s;\n",
        "\n",
        "    s.push(10);\n",
        "    s.push(20);\n",
        "    s.push(30);\n",
        "    s.display();\n",
        "\n",
        "    s.peek();\n",
        "    s.pop();\n",
        "    s.display();\n",
        "\n",
        "    return 0;\n",
        "}\n"
      ],
      "metadata": {
        "id": "6gajaWzw3cBp"
      },
      "execution_count": null,
      "outputs": []
    },
    {
      "cell_type": "code",
      "source": [
        "!gcc lesson7_stack_array.c -o lesson7_stack\n"
      ],
      "metadata": {
        "id": "xaqe4S9S3feR"
      },
      "execution_count": null,
      "outputs": []
    },
    {
      "cell_type": "code",
      "source": [
        "!./lesson7_stack\n"
      ],
      "metadata": {
        "id": "0ZXp-qhI3iJj"
      },
      "execution_count": null,
      "outputs": []
    },
    {
      "cell_type": "markdown",
      "source": [
        "---\n",
        "\n",
        "## ✅ Summary\n",
        "\n",
        "- Stack is a **LIFO** data structure\n",
        "- Main operations: `push`, `pop`, `peek`, `traverse`\n",
        "- Implemented using array with `top` pointer\n",
        "- Proper checks for **overflow** and **underflow** are essential\n",
        "\n",
        "---\n",
        "\n",
        "## 📘 Viva Questions:\n",
        "\n",
        "1. What is a stack? How is it different from a queue?\n",
        "2. What are overflow and underflow in stack?\n",
        "3. How is a stack represented using array?\n",
        "4. Can we dynamically resize a stack in C++?\n",
        "\n",
        "⏭️ Next: **Lesson 7: Stack using Dynamic Arrays**\n"
      ],
      "metadata": {
        "id": "N-Q2xZ0B3jcq"
      }
    }
  ]
}